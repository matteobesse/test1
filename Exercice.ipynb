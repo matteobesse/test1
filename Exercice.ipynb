{
 "cells": [
  {
   "cell_type": "markdown",
   "id": "ea1a1943",
   "metadata": {},
   "source": [
    "## **<center><span style=\"color:red\">Petits exercices ChatGPT</span><center>**"
   ]
  },
  {
   "cell_type": "markdown",
   "id": "82989d84",
   "metadata": {},
   "source": [
    "**Afficher tous les nombres de 1 à 20 inclus**"
   ]
  },
  {
   "cell_type": "code",
   "execution_count": 20,
   "id": "10c41d63",
   "metadata": {},
   "outputs": [
    {
     "name": "stdout",
     "output_type": "stream",
     "text": [
      "[1, 2, 3, 4, 5, 6, 7, 8, 9, 10, 11, 12, 13, 14, 15, 16, 17, 18, 19, 20]\n"
     ]
    }
   ],
   "source": [
    "nombres = []\n",
    "\n",
    "for i in range (21):\n",
    "    if i !=0:\n",
    "        nombres.append(i)\n",
    "\n",
    "print(nombres)"
   ]
  },
  {
   "cell_type": "markdown",
   "id": "20c22553",
   "metadata": {},
   "source": [
    "**Affiche tous les multiples de 3 entre 0 et 30**"
   ]
  },
  {
   "cell_type": "code",
   "execution_count": 21,
   "id": "09cdf2ee",
   "metadata": {},
   "outputs": [
    {
     "name": "stdout",
     "output_type": "stream",
     "text": [
      "[0, 3, 6, 9, 12, 15, 18, 21, 24, 27, 30]\n"
     ]
    }
   ],
   "source": [
    "multiples_3 = []\n",
    "\n",
    "for i in range (31):\n",
    "    if i % 3 == 0:\n",
    "        multiples_3.append(i)\n",
    "    \n",
    "print(multiples_3)\n"
   ]
  },
  {
   "cell_type": "markdown",
   "id": "6ad29b9d",
   "metadata": {},
   "source": [
    "**Crée une liste contenant les carrés des nombres de 1 à 10**"
   ]
  },
  {
   "cell_type": "code",
   "execution_count": 23,
   "id": "7ec60a4b",
   "metadata": {},
   "outputs": [
    {
     "name": "stdout",
     "output_type": "stream",
     "text": [
      "[0, 1, 4, 9, 16, 25, 36, 49, 64, 81, 100]\n"
     ]
    }
   ],
   "source": [
    "carre = []\n",
    "\n",
    "for i in range (11):\n",
    "    i = i**2\n",
    "    carre.append(i)\n",
    "\n",
    "print(carre)"
   ]
  },
  {
   "cell_type": "markdown",
   "id": "d7ce1bd9",
   "metadata": {},
   "source": [
    "**À partir d’une liste valeurs = [2, 5, 8, 3, 7], calcule la somme des éléments à l’aide d’une boucle**"
   ]
  },
  {
   "cell_type": "code",
   "execution_count": null,
   "id": "372765fe",
   "metadata": {},
   "outputs": [
    {
     "name": "stdout",
     "output_type": "stream",
     "text": [
      "2.2\n"
     ]
    }
   ],
   "source": [
    "valeurs = [2,5,8,3,7]\n",
    "i = 0\n",
    "\n",
    "while i <(len(valeurs)+1):\n",
    "    i = i + valeurs[i]\n",
    "\n",
    "\n",
    "moyenne = i/len(valeurs)\n",
    "print(moyenne)\n"
   ]
  },
  {
   "cell_type": "code",
   "execution_count": null,
   "id": "6a7bb4d9",
   "metadata": {},
   "outputs": [],
   "source": []
  }
 ],
 "metadata": {
  "kernelspec": {
   "display_name": ".venv (3.12.3)",
   "language": "python",
   "name": "python3"
  },
  "language_info": {
   "codemirror_mode": {
    "name": "ipython",
    "version": 3
   },
   "file_extension": ".py",
   "mimetype": "text/x-python",
   "name": "python",
   "nbconvert_exporter": "python",
   "pygments_lexer": "ipython3",
   "version": "3.12.3"
  }
 },
 "nbformat": 4,
 "nbformat_minor": 5
}
