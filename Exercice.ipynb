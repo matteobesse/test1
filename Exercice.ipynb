{
 "cells": [
  {
   "cell_type": "markdown",
   "id": "ea1a1943",
   "metadata": {},
   "source": [
    "## **<center><span style=\"color:red\">Petits exercices ChatGPT</span><center>**"
   ]
  },
  {
   "cell_type": "markdown",
   "id": "82989d84",
   "metadata": {},
   "source": [
    "**Afficher tous les nombres de 1 à 20 inclus**"
   ]
  },
  {
   "cell_type": "code",
   "execution_count": 20,
   "id": "10c41d63",
   "metadata": {},
   "outputs": [
    {
     "name": "stdout",
     "output_type": "stream",
     "text": [
      "[1, 2, 3, 4, 5, 6, 7, 8, 9, 10, 11, 12, 13, 14, 15, 16, 17, 18, 19, 20]\n"
     ]
    }
   ],
   "source": [
    "nombres = []\n",
    "\n",
    "for i in range (21):\n",
    "    if i !=0:\n",
    "        nombres.append(i)\n",
    "\n",
    "print(nombres)"
   ]
  },
  {
   "cell_type": "markdown",
   "id": "20c22553",
   "metadata": {},
   "source": [
    "**Affiche tous les multiples de 3 entre 0 et 30**"
   ]
  },
  {
   "cell_type": "code",
   "execution_count": 21,
   "id": "09cdf2ee",
   "metadata": {},
   "outputs": [
    {
     "name": "stdout",
     "output_type": "stream",
     "text": [
      "[0, 3, 6, 9, 12, 15, 18, 21, 24, 27, 30]\n"
     ]
    }
   ],
   "source": [
    "multiples_3 = []\n",
    "\n",
    "for i in range (31):\n",
    "    if i % 3 == 0:\n",
    "        multiples_3.append(i)\n",
    "    \n",
    "print(multiples_3)\n"
   ]
  },
  {
   "cell_type": "markdown",
   "id": "6ad29b9d",
   "metadata": {},
   "source": [
    "**Crée une liste contenant les carrés des nombres de 1 à 10**"
   ]
  },
  {
   "cell_type": "code",
   "execution_count": 23,
   "id": "7ec60a4b",
   "metadata": {},
   "outputs": [
    {
     "name": "stdout",
     "output_type": "stream",
     "text": [
      "[0, 1, 4, 9, 16, 25, 36, 49, 64, 81, 100]\n"
     ]
    }
   ],
   "source": [
    "carre = []\n",
    "\n",
    "for i in range (11):\n",
    "    i = i**2\n",
    "    carre.append(i)\n",
    "\n",
    "print(carre)"
   ]
  },
  {
   "cell_type": "markdown",
   "id": "d7ce1bd9",
   "metadata": {},
   "source": [
    "**À partir d’une liste valeurs = [2, 5, 8, 3, 7], calcule la somme des éléments à l’aide d’une boucle**"
   ]
  },
  {
   "cell_type": "code",
   "execution_count": 13,
   "id": "372765fe",
   "metadata": {},
   "outputs": [
    {
     "name": "stdout",
     "output_type": "stream",
     "text": [
      "5.0\n"
     ]
    }
   ],
   "source": [
    "valeurs = [2,5,8,3,7]\n",
    "\n",
    "#Initialisation\n",
    "i = 0\n",
    "somme = 0 \n",
    "\n",
    "while i<len(valeurs): #tant que i soit en dessous du nombre de notes\n",
    "    somme += valeurs[i] #ajouter à la somme chacune des notes\n",
    "    i += 1 #ajouter 1 à la boucle\n",
    "\n",
    "moyenne = somme/len(valeurs)\n",
    "print(moyenne)\n"
   ]
  },
  {
   "cell_type": "code",
   "execution_count": 39,
   "id": "9e6a565e",
   "metadata": {},
   "outputs": [
    {
     "name": "stdout",
     "output_type": "stream",
     "text": [
      "5.0\n"
     ]
    }
   ],
   "source": [
    "valeurs = [2,5,8,3,7]\n",
    "\n",
    "somme = 0\n",
    "\n",
    "for i in valeurs:\n",
    "    somme += i\n",
    "    moyenne=somme/len(valeurs)\n",
    "\n",
    "print(moyenne)\n"
   ]
  },
  {
   "cell_type": "markdown",
   "id": "fade3cd0",
   "metadata": {},
   "source": [
    "**Demande à l’utilisateur d’entrer un nombre et affiche s’il est pair ou impair**"
   ]
  },
  {
   "cell_type": "code",
   "execution_count": 20,
   "id": "6a7bb4d9",
   "metadata": {},
   "outputs": [
    {
     "name": "stdout",
     "output_type": "stream",
     "text": [
      "Le nombre choisi est pair\n"
     ]
    }
   ],
   "source": [
    "x = int(input(\"Choisir un nombre entier\"))\n",
    "\n",
    "if x % 2 ==0:\n",
    "    print(\"Le nombre choisi est pair\")\n",
    "else:\n",
    "    print(\"Le nombre choisi est impair\")\n"
   ]
  },
  {
   "cell_type": "markdown",
   "id": "9df8b2ca",
   "metadata": {},
   "source": [
    "**À partir de valeurs = [-5, 3, -1, 0, 8, 12, -7], crée une nouvelle liste contenant uniquement les valeurs positives**"
   ]
  },
  {
   "cell_type": "code",
   "execution_count": null,
   "id": "ec547c56",
   "metadata": {},
   "outputs": [
    {
     "name": "stdout",
     "output_type": "stream",
     "text": [
      "[]\n"
     ]
    }
   ],
   "source": [
    "valeurs = [-5,3,-1,0,8,12,-7]\n",
    "valeurs_pos = []\n",
    "\n",
    "for i in valeurs:\n",
    "    if i>=0:\n",
    "        valeurs_pos.append(i)\n",
    "        i += 1\n",
    "\n",
    "print(valeurs_pos)"
   ]
  },
  {
   "cell_type": "markdown",
   "id": "20b7bfc2",
   "metadata": {},
   "source": [
    "**Calcule la moyenne des valeurs d’une liste, sans utiliser sum() ni len(), uniquement avec une boucle**"
   ]
  },
  {
   "cell_type": "code",
   "execution_count": 36,
   "id": "34f18083",
   "metadata": {},
   "outputs": [
    {
     "name": "stdout",
     "output_type": "stream",
     "text": [
      "La moyenne de l'année est: 14.916666666666666\n"
     ]
    }
   ],
   "source": [
    "maths = 18.0\n",
    "français = 12.0\n",
    "svt= 17.0\n",
    "anglais = 14.0\n",
    "histoire = 11.0\n",
    "physique = 17.5\n",
    "\n",
    "liste = [maths,français,svt,anglais,histoire,physique]\n",
    "\n",
    "i = 0\n",
    "somme = 0\n",
    "\n",
    "while i < len(liste):\n",
    "    somme = somme+liste[i]\n",
    "    i = i + 1\n",
    "\n",
    "print(\"La moyenne de l'année est:\", somme/len(liste))"
   ]
  },
  {
   "cell_type": "code",
   "execution_count": 42,
   "id": "202bae94",
   "metadata": {},
   "outputs": [
    {
     "name": "stdout",
     "output_type": "stream",
     "text": [
      "14.916666666666666\n"
     ]
    }
   ],
   "source": [
    "maths = 18.0\n",
    "français = 12.0\n",
    "svt= 17.0\n",
    "anglais = 14.0\n",
    "histoire = 11.0\n",
    "physique = 17.5\n",
    "\n",
    "liste = [maths,français,svt,anglais,histoire,physique]\n",
    "\n",
    "somme = 0 \n",
    "\n",
    "for i in liste:\n",
    "    somme += i\n",
    "    moyenne = somme/len(liste)\n",
    "\n",
    "print(moyenne)"
   ]
  },
  {
   "cell_type": "code",
   "execution_count": 43,
   "id": "08ebd241",
   "metadata": {},
   "outputs": [
    {
     "name": "stdout",
     "output_type": "stream",
     "text": [
      "15.0\n"
     ]
    }
   ],
   "source": [
    "a = float(input(\"Moyenne de maths :\"))\n",
    "b = float(input(\"Moyenne de français :\"))\n",
    "c = float(input(\"Moyenne de SVT :\"))\n",
    "\n",
    "notes = [a,b,c]\n",
    "\n",
    "somme = 0\n",
    "\n",
    "for i in notes:\n",
    "    somme += i\n",
    "    moyenne=somme/len(notes)\n",
    "\n",
    "print(moyenne)"
   ]
  },
  {
   "cell_type": "markdown",
   "id": "550712b6",
   "metadata": {},
   "source": [
    "**Remplace dans une liste tous les nombres négatifs par 0**"
   ]
  },
  {
   "cell_type": "code",
   "execution_count": 50,
   "id": "ce0d1210",
   "metadata": {},
   "outputs": [
    {
     "name": "stdout",
     "output_type": "stream",
     "text": [
      "[0, 0, 7, 18, 0]\n"
     ]
    }
   ],
   "source": [
    "liste = [-1,-6,7,18,-8]\n",
    "\n",
    "liste_pos = []\n",
    "\n",
    "for i in liste:\n",
    "    if i<0:\n",
    "        liste_pos.append(0)\n",
    "    else:\n",
    "        liste_pos.append(i)\n",
    "\n",
    "\n",
    "print(liste_pos)"
   ]
  },
  {
   "cell_type": "markdown",
   "id": "3c5bfabc",
   "metadata": {},
   "source": [
    "**Compte combien de nombres dans une liste sont supérieurs à 10**"
   ]
  },
  {
   "cell_type": "code",
   "execution_count": 52,
   "id": "01a1f1fd",
   "metadata": {},
   "outputs": [
    {
     "name": "stdout",
     "output_type": "stream",
     "text": [
      "2\n"
     ]
    }
   ],
   "source": [
    "liste = [3,9,14,17]\n",
    "\n",
    "nombre = 0\n",
    "\n",
    "for i in liste:\n",
    "    if i>10:\n",
    "        nombre += 1 \n",
    "\n",
    "print(nombre)"
   ]
  },
  {
   "cell_type": "markdown",
   "id": "32db8088",
   "metadata": {},
   "source": [
    "**Inverse une liste sans utiliser la méthode .reverse() ni les slices [::-1]**"
   ]
  },
  {
   "cell_type": "code",
   "execution_count": 64,
   "id": "0f117b74",
   "metadata": {},
   "outputs": [
    {
     "name": "stdout",
     "output_type": "stream",
     "text": [
      "[1.0, 0.5, 0.25]\n"
     ]
    }
   ],
   "source": [
    "liste = [1,2,4]\n",
    "\n",
    "liste_inverse = []\n",
    "\n",
    "for i in liste:\n",
    "    liste_inverse.append(1/i)\n",
    "\n",
    "print(liste_inverse)\n"
   ]
  },
  {
   "cell_type": "markdown",
   "id": "e064fa08",
   "metadata": {},
   "source": [
    "**Crée une liste contenant tous les nombres entre 1 et 100 divisibles à la fois par 3 et par 5**"
   ]
  },
  {
   "cell_type": "code",
   "execution_count": 71,
   "id": "5ed4590a",
   "metadata": {},
   "outputs": [
    {
     "ename": "KeyboardInterrupt",
     "evalue": "",
     "output_type": "error",
     "traceback": [
      "\u001b[31m---------------------------------------------------------------------------\u001b[39m",
      "\u001b[31mKeyboardInterrupt\u001b[39m                         Traceback (most recent call last)",
      "\u001b[36mCell\u001b[39m\u001b[36m \u001b[39m\u001b[32mIn[71]\u001b[39m\u001b[32m, line 5\u001b[39m\n\u001b[32m      1\u001b[39m liste = []\n\u001b[32m      3\u001b[39m i = \u001b[32m0\u001b[39m\n\u001b[32m----> \u001b[39m\u001b[32m5\u001b[39m \u001b[38;5;28;01mwhile\u001b[39;00m i<\u001b[32m101\u001b[39m:\n\u001b[32m      6\u001b[39m     \u001b[38;5;28;01mif\u001b[39;00m i % \u001b[32m3\u001b[39m==\u001b[32m0\u001b[39m \u001b[38;5;129;01mand\u001b[39;00m i%\u001b[32m5\u001b[39m==\u001b[32m0\u001b[39m:\n\u001b[32m      7\u001b[39m         liste.append(i)\n",
      "\u001b[31mKeyboardInterrupt\u001b[39m: "
     ]
    }
   ],
   "source": [
    "liste = []\n",
    "\n",
    "i = 0\n",
    "\n",
    "while i<101:\n",
    "    if i % 3==0 and i%5==0:\n",
    "        liste.append(i)\n",
    "        i += 1\n",
    "\n",
    "print(liste)"
   ]
  },
  {
   "cell_type": "code",
   "execution_count": 73,
   "id": "99539b8d",
   "metadata": {},
   "outputs": [
    {
     "name": "stdout",
     "output_type": "stream",
     "text": [
      "[30, 60]\n"
     ]
    }
   ],
   "source": [
    "liste = [5,30,60,43]\n",
    "\n",
    "newlist = []\n",
    "\n",
    "for i in liste:\n",
    "    if i%3==0 and i%5==0:\n",
    "        newlist.append(i)\n",
    "\n",
    "print(newlist)"
   ]
  },
  {
   "cell_type": "code",
   "execution_count": 75,
   "id": "922524f1",
   "metadata": {},
   "outputs": [
    {
     "name": "stdout",
     "output_type": "stream",
     "text": [
      "[0, 1, 2, 3, 4, 5, 6, 7, 8, 9, 10, 11, 12, 13, 14, 15, 16, 17, 18, 19, 20, 21, 22, 23, 24, 25, 26, 27, 28, 29, 30, 31, 32, 33, 34, 35, 36, 37, 38, 39, 40, 41, 42, 43, 44, 45, 46, 47, 48, 49, 50, 51, 52, 53, 54, 55, 56, 57, 58, 59, 60, 61, 62, 63, 64, 65, 66, 67, 68, 69, 70, 71, 72, 73, 74, 75, 76, 77, 78, 79, 80, 81, 82, 83, 84, 85, 86, 87, 88, 89, 90, 91, 92, 93, 94, 95, 96, 97, 98, 99, 100]\n",
      "[0, 15, 30, 45, 60, 75, 90]\n"
     ]
    }
   ],
   "source": [
    "liste = []\n",
    "\n",
    "i=0\n",
    "\n",
    "while i<101:\n",
    "    liste.append(i)\n",
    "    i=i+1\n",
    "\n",
    "print(liste)\n",
    "\n",
    "newlist =[]\n",
    "for i in liste:\n",
    "    if i%3==0 and i%5==0:\n",
    "        newlist.append(i)\n",
    "\n",
    "print(newlist)"
   ]
  },
  {
   "cell_type": "markdown",
   "id": "8bdbdff6",
   "metadata": {},
   "source": [
    "**Demande à l’utilisateur de saisir des nombres un par un jusqu’à ce qu’il tape “stop”, puis affiche la moyenne**"
   ]
  },
  {
   "cell_type": "code",
   "execution_count": null,
   "id": "4e38331e",
   "metadata": {},
   "outputs": [],
   "source": []
  }
 ],
 "metadata": {
  "kernelspec": {
   "display_name": ".venv (3.12.3)",
   "language": "python",
   "name": "python3"
  },
  "language_info": {
   "codemirror_mode": {
    "name": "ipython",
    "version": 3
   },
   "file_extension": ".py",
   "mimetype": "text/x-python",
   "name": "python",
   "nbconvert_exporter": "python",
   "pygments_lexer": "ipython3",
   "version": "3.12.3"
  }
 },
 "nbformat": 4,
 "nbformat_minor": 5
}
