{
 "cells": [
  {
   "cell_type": "markdown",
   "id": "096f3b78",
   "metadata": {},
   "source": [
    "# **<center><span style=\"color:#F011E3\">Exercices Python<center></span>**"
   ]
  },
  {
   "cell_type": "markdown",
   "id": "d51e7538",
   "metadata": {},
   "source": [
    "#### <span style=\"color:orange\">**Appréhension de scripts simples</span>**"
   ]
  },
  {
   "cell_type": "code",
   "execution_count": 15,
   "id": "afbc5fb2",
   "metadata": {},
   "outputs": [],
   "source": [
    "import numpy as np\n",
    "import random\n",
    "import math\n",
    "import matplotlib as plt\n",
    "import cmath"
   ]
  },
  {
   "cell_type": "markdown",
   "id": "18c1d15c",
   "metadata": {},
   "source": [
    "#### **1. Conditions**"
   ]
  },
  {
   "cell_type": "code",
   "execution_count": null,
   "id": "df84606c",
   "metadata": {},
   "outputs": [
    {
     "name": "stdout",
     "output_type": "stream",
     "text": [
      "il fait chaud\n"
     ]
    }
   ],
   "source": [
    "t = int(input(\"Quelle est la température ?\")) #Commande pour demander à l'utilisateur\n",
    "if t>30:\n",
    "    print(\"il fait chaud\")\n",
    "elif t<15:\n",
    "    print(\"il fait froid\")\n",
    "else:\n",
    "    print(\"il fait bon\")"
   ]
  },
  {
   "cell_type": "markdown",
   "id": "eed5d523",
   "metadata": {},
   "source": [
    "#### **2. Listes & Boucles**"
   ]
  },
  {
   "cell_type": "code",
   "execution_count": 23,
   "id": "47564359",
   "metadata": {},
   "outputs": [
    {
     "name": "stdout",
     "output_type": "stream",
     "text": [
      "Minéral: or\n",
      "Minéral: cuivre\n",
      "Minéral: cobalt\n",
      "Minéral: manganèse\n",
      "Minéral: fer\n",
      "Minéral: chrome\n"
     ]
    }
   ],
   "source": [
    "mineraux = [\"or\", \"cuivre\", \"cobalt\", \"manganèse\", \"fer\", \"chrome\"]\n",
    "\n",
    "for m in mineraux:\n",
    "    print(\"Minéral:\",m)"
   ]
  },
  {
   "cell_type": "code",
   "execution_count": 24,
   "id": "f70f4899",
   "metadata": {},
   "outputs": [
    {
     "data": {
      "text/plain": [
       "'or'"
      ]
     },
     "execution_count": 24,
     "metadata": {},
     "output_type": "execute_result"
    }
   ],
   "source": [
    "mineraux[0]"
   ]
  },
  {
   "cell_type": "code",
   "execution_count": 25,
   "id": "80a60523",
   "metadata": {},
   "outputs": [
    {
     "data": {
      "text/plain": [
       "'chrome'"
      ]
     },
     "execution_count": 25,
     "metadata": {},
     "output_type": "execute_result"
    }
   ],
   "source": [
    "mineraux[-1]"
   ]
  },
  {
   "cell_type": "code",
   "execution_count": 32,
   "id": "5f60ead5",
   "metadata": {},
   "outputs": [
    {
     "name": "stdout",
     "output_type": "stream",
     "text": [
      "['Al', 'Si', 'Ca']\n"
     ]
    }
   ],
   "source": [
    "liste = []\n",
    "liste.append(\"Al\")\n",
    "liste.append(\"Si\")\n",
    "liste.append(\"Ca\")\n",
    "print(liste)"
   ]
  },
  {
   "cell_type": "code",
   "execution_count": 41,
   "id": "26a7f6ed",
   "metadata": {},
   "outputs": [],
   "source": [
    "liste.insert(2, \"Na\")"
   ]
  },
  {
   "cell_type": "code",
   "execution_count": 42,
   "id": "a7f3ef57",
   "metadata": {},
   "outputs": [
    {
     "name": "stdout",
     "output_type": "stream",
     "text": [
      "['Al', 'Si', 'Na', 'Ca']\n"
     ]
    }
   ],
   "source": [
    "print(liste)"
   ]
  },
  {
   "cell_type": "code",
   "execution_count": 43,
   "id": "5750c8f1",
   "metadata": {},
   "outputs": [],
   "source": [
    "liste.remove(\"Na\")"
   ]
  },
  {
   "cell_type": "code",
   "execution_count": 45,
   "id": "72edee43",
   "metadata": {},
   "outputs": [
    {
     "data": {
      "text/plain": [
       "3"
      ]
     },
     "execution_count": 45,
     "metadata": {},
     "output_type": "execute_result"
    }
   ],
   "source": [
    "len(liste)"
   ]
  },
  {
   "cell_type": "code",
   "execution_count": 54,
   "id": "d761d734",
   "metadata": {},
   "outputs": [
    {
     "name": "stdout",
     "output_type": "stream",
     "text": [
      "0.2870412363440132\n"
     ]
    }
   ],
   "source": [
    "x = float(input(\"Choisir un nombre\"))\n",
    "if x == 0:\n",
    "    print(\"Division par 0 impossible\")\n",
    "else:\n",
    "    print (1/x)"
   ]
  },
  {
   "cell_type": "code",
   "execution_count": 58,
   "id": "de6e6ddf",
   "metadata": {},
   "outputs": [
    {
     "name": "stdout",
     "output_type": "stream",
     "text": [
      "La valeur est au dessus de la borne supérieure\n"
     ]
    }
   ],
   "source": [
    "x = float(input(\"Choisir un nombre\"))\n",
    "min_val=2\n",
    "max_val=6\n",
    "if x<min_val:\n",
    "    print(\"La valeur est en dessous de la borne inférieure\")\n",
    "elif x>max_val:\n",
    "    print(\"La valeur est au dessus de la borne supérieure\")\n",
    "else:\n",
    "    print(\"La valeur est comprise dans l'intervalle\")"
   ]
  },
  {
   "cell_type": "markdown",
   "id": "36642f83",
   "metadata": {},
   "source": [
    "##### *Calcul d'une moyenne de différentes manières* "
   ]
  },
  {
   "cell_type": "code",
   "execution_count": 73,
   "id": "7e8a5a26",
   "metadata": {},
   "outputs": [
    {
     "name": "stdout",
     "output_type": "stream",
     "text": [
      "11.75\n"
     ]
    }
   ],
   "source": [
    "notes = [10,9,13,15]\n",
    "\n",
    "moyenne = sum(notes)/len(notes)\n",
    "print(moyenne)"
   ]
  },
  {
   "cell_type": "code",
   "execution_count": 78,
   "id": "e4a124b5",
   "metadata": {},
   "outputs": [
    {
     "name": "stdout",
     "output_type": "stream",
     "text": [
      "La moyenne est : 11.75\n"
     ]
    }
   ],
   "source": [
    "notes = [10,9,13,15]\n",
    "\n",
    "somme = 0 #initialiser la somme à 0\n",
    "\n",
    "for i in notes:\n",
    "    somme = somme+i\n",
    "moyenne = somme/len(notes)\n",
    "\n",
    "print(\"La moyenne est :\",moyenne)"
   ]
  },
  {
   "cell_type": "code",
   "execution_count": null,
   "id": "7e6732ee",
   "metadata": {},
   "outputs": [
    {
     "name": "stdout",
     "output_type": "stream",
     "text": [
      "La moyenne est : 11.75\n"
     ]
    }
   ],
   "source": [
    "notes = [10,9,13,15]\n",
    "\n",
    "# Initialisation\n",
    "i = 0 \n",
    "somme = 0\n",
    "\n",
    "while i < len(notes):\n",
    "    somme = somme + notes[i]   \n",
    "    i = i + 1              \n",
    "\n",
    "moyenne = somme / len(notes)\n",
    "\n",
    "print(\"La moyenne est :\", moyenne)"
   ]
  },
  {
   "cell_type": "code",
   "execution_count": 97,
   "id": "91cd74c5",
   "metadata": {},
   "outputs": [
    {
     "name": "stdout",
     "output_type": "stream",
     "text": [
      "[0, 2, 4, 6, 8, 10, 12, 14, 16, 18, 20]\n",
      "[1, 3, 5, 7, 9, 11, 13, 15, 17, 19]\n"
     ]
    }
   ],
   "source": [
    "pairs = []\n",
    "impairs = []\n",
    "i = 0\n",
    "while i < 21:\n",
    "    if i % 2 == 0:\n",
    "        pairs.append(i)\n",
    "    i=i+1\n",
    "\n",
    "print(pairs)\n",
    "\n",
    "j = 0\n",
    "while j<21:\n",
    "    if j % 2 != 0:\n",
    "        impairs.append(j)\n",
    "    j=j+1\n",
    "print (impairs)\n",
    "\n"
   ]
  },
  {
   "cell_type": "code",
   "execution_count": 100,
   "id": "01e2a367",
   "metadata": {},
   "outputs": [
    {
     "name": "stdout",
     "output_type": "stream",
     "text": [
      "[0, 2, 4, 6, 8, 10, 12, 14, 16, 18, 20]\n",
      "[1, 3, 5, 7, 9, 11, 13, 15, 17, 19]\n"
     ]
    }
   ],
   "source": [
    "pairs=[]\n",
    "impairs=[]\n",
    "i = 0\n",
    "\n",
    "while i<21:\n",
    "    if i%2==0:\n",
    "        pairs.append(i)\n",
    "    else:\n",
    "        impairs.append(i)\n",
    "    i=i+1\n",
    "\n",
    "print(pairs)\n",
    "print(impairs)\n"
   ]
  },
  {
   "cell_type": "code",
   "execution_count": 98,
   "id": "bbf3da08",
   "metadata": {},
   "outputs": [
    {
     "name": "stdout",
     "output_type": "stream",
     "text": [
      "Nombres pairs inférieurs ou égaux à 10 : [0, 2, 4, 6, 8, 10]\n",
      "Nombres impairs strictement supérieurs à 10 : [11, 13, 15, 17, 19]\n"
     ]
    }
   ],
   "source": [
    "# On initialise deux listes vides\n",
    "pairs = []\n",
    "impairs = []\n",
    "\n",
    "i = 0\n",
    "\n",
    "\n",
    "while i <= 20:\n",
    "    if i % 2 == 0 and i <= 10:\n",
    "        pairs.append(i)\n",
    "    elif i % 2 != 0 and i > 10:\n",
    "        impairs.append(i)\n",
    "    \n",
    "    i = i+1 \n",
    "\n",
    "# Affichage des résultats\n",
    "print(\"Nombres pairs inférieurs ou égaux à 10 :\", pairs)\n",
    "print(\"Nombres impairs strictement supérieurs à 10 :\", impairs)"
   ]
  },
  {
   "cell_type": "code",
   "execution_count": 103,
   "id": "c0d2abcc",
   "metadata": {},
   "outputs": [
    {
     "name": "stdout",
     "output_type": "stream",
     "text": [
      "[0, 2, 4, 6, 8, 10]\n",
      "[11, 13, 15, 17, 19]\n"
     ]
    }
   ],
   "source": [
    "pairs=[]\n",
    "impairs=[]\n",
    "i=0\n",
    "for i in range(21):\n",
    "    if i%2==0 and i<=10:\n",
    "        pairs.append(i)\n",
    "    elif i%2!=0 and i>10:\n",
    "        impairs.append(i)\n",
    "\n",
    "print(pairs)\n",
    "print(impairs)"
   ]
  },
  {
   "cell_type": "code",
   "execution_count": 104,
   "id": "1e6011f0",
   "metadata": {},
   "outputs": [
    {
     "name": "stdout",
     "output_type": "stream",
     "text": [
      "Azimuths corrigés : [-130, -170, 10, -135, 160, 180]\n"
     ]
    }
   ],
   "source": [
    "azm = [-130,190,370,225,-200,-180]\n",
    "\n",
    "azm_corrige = [] #liste vide pour stocker les valeurs\n",
    "\n",
    "for i in azm:\n",
    "    # On ramène les valeurs dans l'intervalle ]-180, 180]\n",
    "    while i > 180:\n",
    "        i = i -360\n",
    "    while i <= -180:\n",
    "        i = i + 360\n",
    "    azm_corrige.append(i)\n",
    "\n",
    "print(\"Azimuths corrigés :\", azm_corrige)\n",
    "\n"
   ]
  }
 ],
 "metadata": {
  "kernelspec": {
   "display_name": ".venv (3.12.3)",
   "language": "python",
   "name": "python3"
  },
  "language_info": {
   "codemirror_mode": {
    "name": "ipython",
    "version": 3
   },
   "file_extension": ".py",
   "mimetype": "text/x-python",
   "name": "python",
   "nbconvert_exporter": "python",
   "pygments_lexer": "ipython3",
   "version": "3.12.3"
  }
 },
 "nbformat": 4,
 "nbformat_minor": 5
}
