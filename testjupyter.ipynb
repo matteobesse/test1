{
 "cells": [
  {
   "cell_type": "markdown",
   "id": "096f3b78",
   "metadata": {},
   "source": [
    "# **<center><span style=\"color:#F011E3\">Test Jupyter NoteBook<center></span>**"
   ]
  },
  {
   "cell_type": "markdown",
   "id": "7b8c87bc",
   "metadata": {},
   "source": [
    "#### **1. Variables**"
   ]
  },
  {
   "cell_type": "code",
   "execution_count": 14,
   "id": "afbc5fb2",
   "metadata": {},
   "outputs": [
    {
     "name": "stdout",
     "output_type": "stream",
     "text": [
      "<built-in method conjugate of complex object at 0x7225841be590>\n"
     ]
    }
   ],
   "source": [
    "z=1+5j\n",
    "\n",
    "z = z.conjugate\n",
    "print(z)  "
   ]
  },
  {
   "cell_type": "code",
   "execution_count": null,
   "id": "df84606c",
   "metadata": {},
   "outputs": [],
   "source": []
  }
 ],
 "metadata": {
  "kernelspec": {
   "display_name": ".venv (3.12.3)",
   "language": "python",
   "name": "python3"
  },
  "language_info": {
   "codemirror_mode": {
    "name": "ipython",
    "version": 3
   },
   "file_extension": ".py",
   "mimetype": "text/x-python",
   "name": "python",
   "nbconvert_exporter": "python",
   "pygments_lexer": "ipython3",
   "version": "3.12.3"
  }
 },
 "nbformat": 4,
 "nbformat_minor": 5
}
